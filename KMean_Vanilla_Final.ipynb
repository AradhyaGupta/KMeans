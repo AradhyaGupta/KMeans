{
 "cells": [
  {
   "cell_type": "code",
   "execution_count": 91,
   "metadata": {
    "collapsed": true
   },
   "outputs": [],
   "source": [
    "import numpy as np\n",
    "import matplotlib.pyplot as plt\n",
    "import pandas as pd\n",
    "import math\n",
    "import timeit\n",
    "start = timeit.default_timer()\n",
    "class KMeans:\n",
    "    def __init__(self):\n",
    "        self.finalCentroid=[]\n",
    "        self.data=[]\n",
    "    def initializeCentroids(self):\n",
    "        self.data=np.loadtxt('clusters.txt',delimiter=',')\n",
    "        k=3\n",
    "        data_=pd.read_csv('clusters.txt')\n",
    "        data_.columns=['x','y']\n",
    "        #plt.scatter(data_['x'],data_['y'])\n",
    "        #plt.show()\n",
    "        ind=[i for i in np.random.randint(0,self.data.shape[0]-1,size=3)]\n",
    "        num_instances, num_features=self.data.shape\n",
    "        randomPoints=self.data[np.random.randint(0, num_instances - 1, size=k)]\n",
    "        return randomPoints\n",
    "    \n",
    "    def calculateEucledianDist(self,l1,l2):\n",
    "        return math.sqrt((l1[0]-l2[0])**2+(l1[1]-l2[1])**2)\n",
    "\n",
    "\n",
    "    def getClusterAssociation(self, randomPoints):\n",
    "        clusterAssociation_=[]\n",
    "        getMinDist=[]\n",
    "        for i, j in enumerate(self.data):\n",
    "            for m,n in enumerate(randomPoints):\n",
    "                getMinDist.append(self.calculateEucledianDist(j,n))\n",
    "            minDist=min(getMinDist)\n",
    "            minDistIndex=getMinDist.index(minDist)\n",
    "            clusterAssociation_.append(minDistIndex)\n",
    "            getMinDist=[]\n",
    "        return clusterAssociation_\n",
    "\n",
    "    def getCountOfInstancesPerCluster(self,clusterAssociation):\n",
    "        clus0=0\n",
    "        clus1=0\n",
    "        clus2=0\n",
    "        for i,j in enumerate(clusterAssociation):\n",
    "            if j==0:\n",
    "                clus0+=1\n",
    "            elif j==1:\n",
    "                clus1+=1\n",
    "            else:\n",
    "                clus2+=1\n",
    "        return(clus0, clus1, clus2)\n",
    "\n",
    "    def stepByStepMovement(self,clusterAssociation,randomPoints):\n",
    "        for i,j in enumerate(clusterAssociation):\n",
    "            if j==0:\n",
    "                plt.scatter(self.data[i][0],self.data[i][1],color='r')\n",
    "            elif j==1:\n",
    "                plt.scatter(self.data[i][0],self.data[i][1],color='b')\n",
    "            else:\n",
    "                plt.scatter(self.data[i][0],self.data[i][1],color='g')\n",
    "        for i in randomPoints:\n",
    "            plt.scatter(i[0],i[1],color='black',marker='x')\n",
    "        plt.show()        \n",
    "\n",
    "\n",
    "    def calculateNewPositionsForCentroids(self,clusterAssociation, randomPoints):\n",
    "        tempRandomPointsx0=0\n",
    "        tempRandomPointsy0=0\n",
    "        tempRandomPointsx1=0\n",
    "        tempRandomPointsy1=0\n",
    "        tempRandomPointsx2=0\n",
    "        tempRandomPointsy2=0\n",
    "        newRandomPoints=[]\n",
    "        clus0, clus1, clus2 = self.getCountOfInstancesPerCluster(clusterAssociation)\n",
    "        for i,j in enumerate(clusterAssociation):\n",
    "            if j==0:\n",
    "\n",
    "                tempRandomPointsx0+=self.data[i][0]\n",
    "                tempRandomPointsy0+=self.data[i][1]\n",
    "\n",
    "            elif j==1:\n",
    "                tempRandomPointsx1+=self.data[i][0]\n",
    "                tempRandomPointsy1+=self.data[i][1]\n",
    "            else:\n",
    "\n",
    "                tempRandomPointsx2+=self.data[i][0]\n",
    "                tempRandomPointsy2+=self.data[i][1]\n",
    "        newRandomPoints.append([tempRandomPointsx0/clus0,tempRandomPointsy0/clus0])\n",
    "        newRandomPoints.append([tempRandomPointsx1/clus1,tempRandomPointsy1/clus1])\n",
    "        newRandomPoints.append([tempRandomPointsx2/clus2,tempRandomPointsy2/clus2])\n",
    "\n",
    "        #print('new centroid\\n {}'.format(np.array(newRandomPoints)))\n",
    "        #print('old centroid\\n {}'.format(randomPoints))\n",
    "\n",
    "        return np.array(newRandomPoints), randomPoints \n",
    "    \n",
    "    def getPointsClosestToCentroid(self, clusterAssociation):\n",
    "        clus0=[]\n",
    "        clus1=[]\n",
    "        clus2=[]\n",
    "        for i,j in enumerate(clusterAssociation):\n",
    "            if j==0:\n",
    "                clus0.append(self.data[i])\n",
    "            elif j==1:\n",
    "                clus1.append(self.data[i])\n",
    "            else:\n",
    "                clus2.append(self.data[i])\n",
    "        return clus0, clus1, clus2        \n",
    "\n",
    "    def visualizeFinalPlot(self,randomPoints):\n",
    "        start_time = timeit.default_timer()\n",
    "        while (True):\n",
    "            clusterAssociation=obj.getClusterAssociation(randomPoints)\n",
    "            randomPoints, oldRandomPoints=obj.calculateNewPositionsForCentroids(clusterAssociation, randomPoints)\n",
    "            #obj.stepByStepMovement(clusterAssociation, randomPoints)\n",
    "            if(math.fabs(sum(sum(oldRandomPoints-randomPoints))) < 0.0000002):\n",
    "                break\n",
    "        self.finalCentroid=randomPoints\n",
    "        clus0,clus1, clus2=self.getPointsClosestToCentroid(clusterAssociation)\n",
    "        elapsed = timeit.default_timer() - start_time\n",
    "        print (elapsed)\n",
    "        return clus0, clus1, clus2, self.finalCentroid, clusterAssociation, randomPoints\n",
    "    \n",
    "     "
   ]
  },
  {
   "cell_type": "code",
   "execution_count": 92,
   "metadata": {
    "scrolled": true
   },
   "outputs": [
    {
     "name": "stdout",
     "output_type": "stream",
     "text": [
      "0.009714801168229314\n"
     ]
    }
   ],
   "source": [
    "obj=KMeans()\n",
    "\n",
    "m1,m2,m3, centroids, clusterAssc, finalPoints=obj.visualizeFinalPlot(obj.initializeCentroids())"
   ]
  },
  {
   "cell_type": "code",
   "execution_count": 93,
   "metadata": {},
   "outputs": [
    {
     "data": {
      "image/png": "[encoded data removed]",
      "text/plain": [
       "<matplotlib.figure.Figure at 0x2a51e9ad518>"
      ]
     },
     "metadata": {},
     "output_type": "display_data"
    },
    {
     "name": "stdout",
     "output_type": "stream",
     "text": [
      "Centriod:\n",
      " [[ 5.17290392  4.13591368]\n",
      " [ 0.49711036  1.26696375]\n",
      " [-1.0393701  -1.23803927]]\n",
      "0.64817006886733\n"
     ]
    }
   ],
   "source": [
    "obj.stepByStepMovement(clusterAssc,finalPoints)\n",
    "print(\"Centriod:\\n\", centroids)\n",
    "print  (timeit.default_timer() - start)"
   ]
  },
  {
   "cell_type": "code",
   "execution_count": null,
   "metadata": {
    "collapsed": true
   },
   "outputs": [],
   "source": []
  }
 ],
 "metadata": {
  "kernelspec": {
   "display_name": "Python 3",
   "language": "python",
   "name": "python3"
  },
  "language_info": {
   "codemirror_mode": {
    "name": "ipython",
    "version": 3
   },
   "file_extension": ".py",
   "mimetype": "text/x-python",
   "name": "python",
   "nbconvert_exporter": "python",
   "pygments_lexer": "ipython3",
   "version": "3.6.1"
  }
 },
 "nbformat": 4,
 "nbformat_minor": 2
}
